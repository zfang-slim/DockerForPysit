{
 "cells": [
  {
   "cell_type": "markdown",
   "metadata": {},
   "source": [
    "# 2D Inversion example\n",
    "\n",
    "This example is based on the tutorial found at http://pysit.readthedocs.io/en/stable/quick_start/index.html  See the link for more details.  This example illustrates how to run pysit from a jupyter notebook within a docker container."
   ]
  },
  {
   "cell_type": "code",
   "execution_count": null,
   "metadata": {},
   "outputs": [],
   "source": [
    "# Set Up the Computing Environment\n",
    "from pysit import *\n",
    "import numpy as np\n",
    "import matplotlib.pyplot as plt\n",
    "from pysit.gallery import horizontal_reflector"
   ]
  },
  {
   "cell_type": "code",
   "execution_count": null,
   "metadata": {},
   "outputs": [],
   "source": [
    "# Set up the domain\n",
    "pmlx = PML(0.1, 100)\n",
    "pmlz = PML(0.1, 100)\n",
    "x_config = (0.1, 1.0, pmlx, pmlx)\n",
    "z_config = (0.1, 0.8, pmlz, pmlz)\n",
    "domain = RectangularDomain(x_config, z_config)\n",
    "mesh = CartesianMesh(domain, 91, 71)\n",
    "C, C0, mesh, domain = horizontal_reflector(mesh)\n",
    "\n",
    "\n",
    "\n",
    "plt.figure()\n",
    "vis.plot(C, mesh)\n",
    "plt.draw()\n",
    "plt.title('True Velocity Model')"
   ]
  },
  {
   "cell_type": "code",
   "execution_count": null,
   "metadata": {},
   "outputs": [],
   "source": [
    "# Generate synthethic data\n",
    "\n",
    "zmin = domain.z.lbound\n",
    "zmax = domain.z.rbound\n",
    "zpos = zmin + (1./9.)*zmax\n",
    "\n",
    "shots = equispaced_acquisition(mesh,\n",
    "                               RickerWavelet(10.0),\n",
    "                               sources=1,\n",
    "                               source_depth=zpos,\n",
    "                               receivers='max',\n",
    "                               receiver_depth=zpos)\n",
    "\n",
    "solver = ConstantDensityAcousticWave(mesh,\n",
    "                                     formulation='scalar',\n",
    "                                     spatial_accuracy_order=2,\n",
    "                                     trange=(0.0, 3.0),\n",
    "                                     kernel_implementation='cpp')\n",
    "wavefields = []\n",
    "base_model = solver.ModelParameters(mesh, {'C': C})\n",
    "generate_seismic_data(shots,\n",
    "                      solver,\n",
    "                      base_model,\n",
    "                      wavefields=wavefields)"
   ]
  },
  {
   "cell_type": "code",
   "execution_count": null,
   "metadata": {},
   "outputs": [],
   "source": [
    "# plot the seismogram\n",
    "plt.figure()\n",
    "vis.plot_seismogram(shots[0])"
   ]
  },
  {
   "cell_type": "code",
   "execution_count": null,
   "metadata": {},
   "outputs": [],
   "source": [
    "# now do some FWI!\n",
    "\n",
    "objective = TemporalLeastSquares(solver)\n",
    "invalg = LBFGS(objective)\n",
    "initial_value = solver.ModelParameters(mesh, {'C': C0})\n",
    "\n",
    "status_configuration = {'value_frequency': 1,\n",
    "                        'residual_frequency': 1,\n",
    "                        'residual_length_frequency': 1,\n",
    "                        'objective_frequency': 1,\n",
    "                        'step_frequency': 1,\n",
    "                        'step_length_frequency': 1,\n",
    "                        'gradient_frequency': 1,\n",
    "                        'gradient_length_frequency': 1,\n",
    "                        'run_time_frequency': 1,\n",
    "                        'alpha_frequency': 1}\n",
    "nsteps = 5\n",
    "result = invalg(shots,\n",
    "                initial_value,\n",
    "                nsteps,\n",
    "                line_search='backtrack',\n",
    "                status_configuration=status_configuration,\n",
    "                verbose=True)"
   ]
  },
  {
   "cell_type": "code",
   "execution_count": null,
   "metadata": {},
   "outputs": [],
   "source": [
    "# plot the results and inversion\n",
    "clim = C.min(),C.max()\n",
    "plt.figure()\n",
    "plt.subplot(1,3,1)\n",
    "vis.plot(C0, mesh, clim=clim)\n",
    "plt.title('Initial Model')\n",
    "plt.subplot(1,3,2)\n",
    "vis.plot(C, mesh, clim=clim)\n",
    "plt.title('True Model')\n",
    "plt.subplot(1,3,3)\n",
    "vis.plot(result.C, mesh, clim=clim)\n",
    "plt.title('Reconstruction')\n",
    "plt.draw()"
   ]
  },
  {
   "cell_type": "code",
   "execution_count": null,
   "metadata": {},
   "outputs": [],
   "source": [
    "# plot the objective value\n",
    "obj_vals = np.array([v for k,v in invalg.objective_history.items()])\n",
    "plt.figure()\n",
    "plt.semilogy(obj_vals)\n",
    "plt.xlabel('iteration')\n",
    "plt.ylabel('Objective value')\n",
    "plt.show()"
   ]
  },
  {
   "cell_type": "code",
   "execution_count": null,
   "metadata": {},
   "outputs": [],
   "source": []
  }
 ],
 "metadata": {
  "kernelspec": {
   "display_name": "Python 2",
   "language": "python",
   "name": "python2"
  },
  "language_info": {
   "codemirror_mode": {
    "name": "ipython",
    "version": 2
   },
   "file_extension": ".py",
   "mimetype": "text/x-python",
   "name": "python",
   "nbconvert_exporter": "python",
   "pygments_lexer": "ipython2",
   "version": "2.7.14"
  }
 },
 "nbformat": 4,
 "nbformat_minor": 2
}
